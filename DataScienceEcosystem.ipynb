{
 "cells": [
  {
   "cell_type": "markdown",
   "id": "b52237b0-7c6d-4f1d-9d61-0d8108ec87f4",
   "metadata": {},
   "source": [
    "# Data Science Tools and Ecosystem"
   ]
  },
  {
   "cell_type": "markdown",
   "id": "8816b175-43ad-4711-a6d9-651386781f61",
   "metadata": {},
   "source": [
    "## In this notebook, Data Science Tools and Ecosystem are summarized."
   ]
  },
  {
   "cell_type": "markdown",
   "id": "669e5f29-e311-42b4-a44f-c6c1c3b9665b",
   "metadata": {},
   "source": [
    "Some of the popular languages that Data Scientists use are:"
   ]
  },
  {
   "cell_type": "markdown",
   "id": "b5fc9974-2e0a-4f9b-a6cd-9b2cc3650dc2",
   "metadata": {},
   "source": [
    "__Objectives__:\n",
    "* Understand Python operations\n",
    "* Knowing python libraries\n",
    "* Handling notebooks\n"
   ]
  },
  {
   "cell_type": "markdown",
   "id": "e28915e3-e059-4c49-8ce9-321750e03cb9",
   "metadata": {},
   "source": [
    "1. SciPy\n",
    "2. NumPy\n",
    "3. Scikit-learn"
   ]
  },
  {
   "cell_type": "markdown",
   "id": "34b26012-79b4-415b-9fbe-e9e67f2131a2",
   "metadata": {},
   "source": [
    "### Below are a few examples of evaluating arithmetic expressions in Python"
   ]
  },
  {
   "cell_type": "code",
   "execution_count": 9,
   "id": "eb98c57c-fe81-4406-9541-8d963369a1f1",
   "metadata": {},
   "outputs": [
    {
     "data": {
      "text/plain": [
       "17"
      ]
     },
     "execution_count": 9,
     "metadata": {},
     "output_type": "execute_result"
    }
   ],
   "source": [
    "(3*4)+5\n",
    "#This a simple arithmetic expression to mutiply then add integers"
   ]
  },
  {
   "cell_type": "code",
   "execution_count": 11,
   "id": "5d1dc3b8-354b-47df-acf5-3a16c64d26f7",
   "metadata": {},
   "outputs": [
    {
     "data": {
      "text/plain": [
       "3.3333333333333335"
      ]
     },
     "execution_count": 11,
     "metadata": {},
     "output_type": "execute_result"
    }
   ],
   "source": [
    "200 / 60\n",
    "#This will convert 200 minutes to hours by diving by 60"
   ]
  },
  {
   "cell_type": "markdown",
   "id": "e7d22e57-624d-44cc-addc-84cc9ecebd0c",
   "metadata": {},
   "source": [
    "## Author: Igor Andrade"
   ]
  }
 ],
 "metadata": {
  "kernelspec": {
   "display_name": "Python 3 (ipykernel)",
   "language": "python",
   "name": "python3"
  },
  "language_info": {
   "codemirror_mode": {
    "name": "ipython",
    "version": 3
   },
   "file_extension": ".py",
   "mimetype": "text/x-python",
   "name": "python",
   "nbconvert_exporter": "python",
   "pygments_lexer": "ipython3",
   "version": "3.12.4"
  }
 },
 "nbformat": 4,
 "nbformat_minor": 5
}
